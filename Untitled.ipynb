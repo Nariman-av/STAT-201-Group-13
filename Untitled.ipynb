{
 "cells": [
  {
   "cell_type": "markdown",
   "id": "1b93ddaf-7617-43ef-aedd-efea31bd96c5",
   "metadata": {},
   "source": [
    "# Statistical Inference on Secondary School Student Performance in Portugal"
   ]
  },
  {
   "cell_type": "markdown",
   "id": "f8a84d98-4533-4e73-91a1-601b2dfd77b1",
   "metadata": {},
   "source": [
    "- **Author**: Nariman Avakoli, Marcela Flaherty, Yi Tang, Brianna Zhou\n",
    "- **Group**: 13"
   ]
  },
  {
   "cell_type": "code",
   "execution_count": null,
   "id": "c411f3ff-b943-4ddd-8910-5cb81607198c",
   "metadata": {},
   "outputs": [],
   "source": []
  }
 ],
 "metadata": {
  "kernelspec": {
   "display_name": "R",
   "language": "R",
   "name": "ir"
  },
  "language_info": {
   "codemirror_mode": "r",
   "file_extension": ".r",
   "mimetype": "text/x-r-source",
   "name": "R",
   "pygments_lexer": "r",
   "version": "4.1.3"
  }
 },
 "nbformat": 4,
 "nbformat_minor": 5
}
